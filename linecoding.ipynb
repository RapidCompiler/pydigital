{
 "cells": [
  {
   "cell_type": "code",
   "execution_count": 3,
   "metadata": {},
   "outputs": [],
   "source": [
    "import matplotlib.pyplot as plt\n",
    "import numpy as np\n"
   ]
  },
  {
   "cell_type": "markdown",
   "metadata": {},
   "source": [
    "1)unipolar nrz<br>\n",
    "2)unipolar rz<br>\n",
    "3)polar nrz<br>\n",
    "4)polar nrzl<br>\n",
    "5)polar nrzi<br>\n",
    "6)polar rz<br>\n",
    "7)bipolar nrz(or)AMI<br>\n",
    "8)bipolar rz<br>\n",
    "9)pseudoternary<br>\n",
    "10)manchester 1<br>\n",
    "11)manchester 2<br>\n",
    "12)diff manchester"
   ]
  },
  {
   "cell_type": "code",
   "execution_count": 4,
   "metadata": {},
   "outputs": [],
   "source": [
    "def unipolar_nrz(code):\n",
    "    bits=[]\n",
    "    for i in code:\n",
    "        q=int(i)\n",
    "        bits.append(q)\n",
    "    data = np.repeat(bits, 2)\n",
    "    data=np.insert(data,len(data),0)\n",
    "    clock = 1 - np.arange(len(data)) % 2\n",
    "    t = 0.5 * np.arange(len(data))\n",
    "\n",
    "    for p in range(len(bits)+1):\n",
    "        plt.axvline(p, color='.5', linewidth=2)\n",
    "    for p in [0,2]:\n",
    "        plt.axhline(p, color='.5', linewidth=2)\n",
    "    plt.step(t, clock + 2, 'r', linewidth = 2, where='post')\n",
    "    plt.step(t, data, 'r', linewidth = 2, where='post')\n",
    "    plt.ylim([-1,3.5])\n",
    "\n",
    "    for tbit, bit in enumerate(bits):\n",
    "        plt.text(tbit + 0.5, -0.5, str(bit))\n",
    "    \n",
    "    plt.text((-len(bits))/6,2,'Clock')\n",
    "    plt.text((-len(bits))/3.7,0,'Unipolar NRZ')\n",
    "\n",
    "\n",
    "    plt.gca().axis('off')\n",
    "    plt.show()\n"
   ]
  },
  {
   "cell_type": "code",
   "execution_count": 5,
   "metadata": {},
   "outputs": [
    {
     "data": {
      "image/png": "[encoded data removed]",
      "text/plain": [
       "<Figure size 432x288 with 1 Axes>"
      ]
     },
     "metadata": {
      "needs_background": "light"
     },
     "output_type": "display_data"
    }
   ],
   "source": [
    "unipolar_nrz('10101010')"
   ]
  },
  {
   "cell_type": "code",
   "execution_count": 6,
   "metadata": {},
   "outputs": [],
   "source": [
    "def unipolar_rz(code):\n",
    "    bits=[]\n",
    "    for i in code:\n",
    "        q=int(i)\n",
    "        bits.append(q)\n",
    "    data=[]\n",
    "    for i in bits:\n",
    "        data.append(i)\n",
    "        l=0\n",
    "        data.append(l)\n",
    "    data=np.insert(data,len(data),0)\n",
    "    clock = 1 - np.arange(len(data)) % 2\n",
    "    t = 0.5 * np.arange(len(data))\n",
    "\n",
    "    for p in range(len(bits)+1):\n",
    "        plt.axvline(p, color='.5', linewidth=2)\n",
    "    for p in [0,2]:\n",
    "        plt.axhline(p, color='.5', linewidth=2)\n",
    "    plt.step(t, clock + 2, 'r', linewidth = 2, where='post')\n",
    "    plt.step(t, data, 'r', linewidth = 2, where='post')\n",
    "    plt.ylim([-1,3.5])\n",
    "\n",
    "    for tbit, bit in enumerate(bits):\n",
    "        plt.text(tbit + 0.5, -0.5, str(bit))\n",
    "    \n",
    "    plt.text((-len(bits))/6,2,'Clock')\n",
    "    plt.text((-len(bits))/3.7,0,'Unipolar RZ')\n",
    "\n",
    "\n",
    "    plt.gca().axis('off')\n",
    "    plt.show()\n"
   ]
  },
  {
   "cell_type": "code",
   "execution_count": 7,
   "metadata": {},
   "outputs": [
    {
     "data": {
      "image/png": "[encoded data removed]",
      "text/plain": [
       "<Figure size 432x288 with 1 Axes>"
      ]
     },
     "metadata": {
      "needs_background": "light"
     },
     "output_type": "display_data"
    }
   ],
   "source": [
    "unipolar_rz('10010')"
   ]
  },
  {
   "cell_type": "code",
   "execution_count": 8,
   "metadata": {},
   "outputs": [],
   "source": [
    "def polar_nrz(code):\n",
    "    bits=[]\n",
    "    for i in code:\n",
    "        q=int(i)\n",
    "        bits.append(q)\n",
    "    data = np.repeat(bits, 2)\n",
    "    data=np.insert(data,len(data),0)\n",
    "    clock = 1 - np.arange(len(data)) % 2\n",
    "    t = 0.5 * np.arange(len(data))\n",
    "\n",
    "    for p in range(len(bits)+1):\n",
    "        plt.axvline(p, color='.5', linewidth=2)\n",
    "    for p in [0.5,2]:\n",
    "        plt.axhline(p, color='.5', linewidth=2)\n",
    "    plt.step(t, clock + 2, 'r', linewidth = 2, where='post')\n",
    "    plt.step(t, data, 'r', linewidth = 2, where='post')\n",
    "    plt.ylim([-1,3.5])\n",
    "\n",
    "    for tbit, bit in enumerate(bits):\n",
    "        plt.text(tbit + 0.5, -0.5, str(bit))\n",
    "    \n",
    "    plt.text((-len(bits))/6,2,'Clock')\n",
    "    plt.text((-len(bits))/3.7,0.5,'Polar NRZ')\n",
    "\n",
    "\n",
    "    plt.gca().axis('off')\n",
    "    plt.show()\n"
   ]
  },
  {
   "cell_type": "code",
   "execution_count": 9,
   "metadata": {},
   "outputs": [
    {
     "data": {
      "image/png": "[encoded data removed]",
      "text/plain": [
       "<Figure size 432x288 with 1 Axes>"
      ]
     },
     "metadata": {
      "needs_background": "light"
     },
     "output_type": "display_data"
    }
   ],
   "source": [
    "polar_nrz('101010')"
   ]
  },
  {
   "cell_type": "code",
   "execution_count": 10,
   "metadata": {},
   "outputs": [],
   "source": [
    "def polar_nrzl(code):\n",
    "    bits=[]\n",
    "    for i in code:\n",
    "        q=int(i)\n",
    "        bits.append(q)\n",
    "    dat1=[]\n",
    "    for i in bits:\n",
    "        if i==1:\n",
    "            l=0\n",
    "            dat1.append(l)\n",
    "        else:\n",
    "            l=1\n",
    "            dat1.append(l)\n",
    "    data = np.repeat(dat1, 2)\n",
    "    data=np.insert(data,len(data),0)\n",
    "    clock = 1 - np.arange(len(data)) % 2\n",
    "    t = 0.5 * np.arange(len(data))\n",
    "\n",
    "    for p in range(len(bits)+1):\n",
    "        plt.axvline(p, color='.5', linewidth=2)\n",
    "    for p in [0.5,2]:\n",
    "        plt.axhline(p, color='.5', linewidth=2)\n",
    "    plt.step(t, clock + 2, 'r', linewidth = 2, where='post')\n",
    "    plt.step(t, data, 'r', linewidth = 2, where='post')\n",
    "    plt.ylim([-1,3.5])\n",
    "\n",
    "    for tbit, bit in enumerate(bits):\n",
    "        plt.text(tbit + 0.5, -0.5, str(bit))\n",
    "    \n",
    "    plt.text((-len(bits))/6,2,'Clock')\n",
    "    plt.text((-len(bits))/3.7,0.5,'Polar NRZ-L')\n",
    "\n",
    "\n",
    "    plt.gca().axis('off')\n",
    "    plt.show()\n",
    "    return dat1\n"
   ]
  },
  {
   "cell_type": "code",
   "execution_count": 11,
   "metadata": {},
   "outputs": [
    {
     "data": {
      "image/png": "[encoded data removed]",
      "text/plain": [
       "<Figure size 432x288 with 1 Axes>"
      ]
     },
     "metadata": {
      "needs_background": "light"
     },
     "output_type": "display_data"
    },
    {
     "data": {
      "text/plain": [
       "[0, 1, 0, 1, 0, 1]"
      ]
     },
     "execution_count": 11,
     "metadata": {},
     "output_type": "execute_result"
    }
   ],
   "source": [
    "polar_nrzl('101010')"
   ]
  },
  {
   "cell_type": "code",
   "execution_count": 12,
   "metadata": {},
   "outputs": [],
   "source": [
    "def polar_nrzi(code):\n",
    "    bits=[]\n",
    "    for i in code:\n",
    "        q=int(i)\n",
    "        bits.append(q)\n",
    "    data=[]\n",
    "    for i in range(0,len(bits)):\n",
    "        if i==0:\n",
    "            if bits[i]==1:\n",
    "                l=0\n",
    "                data.append(l)\n",
    "            else:\n",
    "                l=1\n",
    "                data.append(l)\n",
    "        elif bits[i]==0:\n",
    "            l=data[i-1]\n",
    "            data.append(l)\n",
    "        elif bits[i]==1:\n",
    "            if data[i-1]==1:\n",
    "                l=0\n",
    "                data.append(l)\n",
    "            else:\n",
    "                l=1\n",
    "                data.append(l)\n",
    "    data = np.repeat(data, 2)\n",
    "    data=np.insert(data,len(data),0)\n",
    "    clock = 1 - np.arange(len(data)) % 2\n",
    "    t = 0.5 * np.arange(len(data))\n",
    "\n",
    "    for p in range(len(bits)+1):\n",
    "        plt.axvline(p, color='.5', linewidth=2)\n",
    "    for p in [0.5,2]:\n",
    "        plt.axhline(p, color='.5', linewidth=2)\n",
    "    plt.step(t, clock + 2, 'r', linewidth = 2, where='post')\n",
    "    plt.step(t, data, 'r', linewidth = 2, where='post')\n",
    "    plt.ylim([-1,3.5])\n",
    "\n",
    "    for tbit, bit in enumerate(bits):\n",
    "        plt.text(tbit + 0.5, -0.5, str(bit))\n",
    "    \n",
    "    plt.text((-len(bits))/6,2,'Clock')\n",
    "    plt.text((-len(bits))/3.7,0.5,'Polar NRZ-I')\n",
    "\n",
    "\n",
    "    plt.gca().axis('off')\n",
    "    plt.show()\n"
   ]
  },
  {
   "cell_type": "code",
   "execution_count": 13,
   "metadata": {},
   "outputs": [
    {
     "data": {
      "image/png": "[encoded data removed]",
      "text/plain": [
       "<Figure size 432x288 with 1 Axes>"
      ]
     },
     "metadata": {
      "needs_background": "light"
     },
     "output_type": "display_data"
    }
   ],
   "source": [
    "polar_nrzi('01001110')"
   ]
  },
  {
   "cell_type": "code",
   "execution_count": 14,
   "metadata": {},
   "outputs": [],
   "source": [
    "def polar_rz(code):\n",
    "    bits=[]\n",
    "    for i in code:\n",
    "        q=int(i)\n",
    "        bits.append(q)\n",
    "    data=[]\n",
    "    for i in bits:\n",
    "        data.append(i)\n",
    "        l=0.5\n",
    "        data.append(l)\n",
    "    data=np.insert(data,len(data),0)\n",
    "    clock = 1 - np.arange(len(data)) % 2\n",
    "    t = 0.5 * np.arange(len(data))\n",
    "\n",
    "    for p in range(len(bits)+1):\n",
    "        plt.axvline(p, color='.5', linewidth=2)\n",
    "    for p in [0.5,2]:\n",
    "        plt.axhline(p, color='.5', linewidth=2)\n",
    "    plt.step(t, clock + 2, 'r', linewidth = 2, where='post')\n",
    "    plt.step(t, data, 'r', linewidth = 2, where='post')\n",
    "    plt.ylim([-1,3.5])\n",
    "\n",
    "    for tbit, bit in enumerate(bits):\n",
    "        plt.text(tbit + 0.5, -0.5, str(bit))\n",
    "    \n",
    "    plt.text((-len(bits))/6,2,'Clock')\n",
    "    plt.text((-len(bits))/4.7,0.5,'Polar RZ')\n",
    "\n",
    "\n",
    "    plt.gca().axis('off')\n",
    "    plt.show()\n"
   ]
  },
  {
   "cell_type": "code",
   "execution_count": 15,
   "metadata": {},
   "outputs": [
    {
     "data": {
      "image/png": "[encoded data removed]",
      "text/plain": [
       "<Figure size 432x288 with 1 Axes>"
      ]
     },
     "metadata": {
      "needs_background": "light"
     },
     "output_type": "display_data"
    }
   ],
   "source": [
    "polar_rz('01001110')"
   ]
  },
  {
   "cell_type": "code",
   "execution_count": 16,
   "metadata": {},
   "outputs": [],
   "source": [
    "def bipolar_nrz(code):\n",
    "    bits=[]\n",
    "    for i in code:\n",
    "        q=int(i)\n",
    "        bits.append(q)\n",
    "    data=[]\n",
    "    su=0\n",
    "    for i in bits:\n",
    "        if i==0:\n",
    "            q=0.5\n",
    "            data.append(q)\n",
    "            data.append(q)\n",
    "        else:\n",
    "            su=su+1\n",
    "            if(su%2==0):\n",
    "                q=0\n",
    "                data.append(q)\n",
    "                data.append(q)\n",
    "            else:\n",
    "                q=1\n",
    "                data.append(q)\n",
    "                data.append(q)\n",
    "    data=np.insert(data,len(data),0)\n",
    "    clock = 1 - np.arange(len(data)) % 2\n",
    "    t = 0.5 * np.arange(len(data))\n",
    "\n",
    "    for p in range(len(bits)+1):\n",
    "        plt.axvline(p, color='.5', linewidth=2)\n",
    "    for p in [0.5,2]:\n",
    "        plt.axhline(p, color='.5', linewidth=2)\n",
    "    plt.step(t, clock + 2, 'r', linewidth = 2, where='post')\n",
    "    plt.step(t, data, 'r', linewidth = 2, where='post')\n",
    "    plt.ylim([-1,3.5])\n",
    "\n",
    "    for tbit, bit in enumerate(bits):\n",
    "        plt.text(tbit + 0.5, -0.5, str(bit))\n",
    "    \n",
    "    plt.text((-len(bits))/6,2,'Clock')\n",
    "    plt.text((-len(bits))/3.9,0.5,'Bipolar NRZ')\n",
    "\n",
    "\n",
    "    plt.gca().axis('off')\n",
    "    plt.show()\n"
   ]
  },
  {
   "cell_type": "code",
   "execution_count": 17,
   "metadata": {},
   "outputs": [
    {
     "data": {
      "image/png": "[encoded data removed]",
      "text/plain": [
       "<Figure size 432x288 with 1 Axes>"
      ]
     },
     "metadata": {
      "needs_background": "light"
     },
     "output_type": "display_data"
    }
   ],
   "source": [
    "bipolar_nrz('010010')"
   ]
  },
  {
   "cell_type": "code",
   "execution_count": 18,
   "metadata": {},
   "outputs": [],
   "source": [
    "def bipolar_rz(code):\n",
    "    bits=[]\n",
    "    for i in code:\n",
    "        q=int(i)\n",
    "        bits.append(q)\n",
    "    data=[]\n",
    "    su=0\n",
    "    for i in bits:\n",
    "        if i==0:\n",
    "            q=0.5\n",
    "            data.append(q)\n",
    "            data.append(q)\n",
    "        else:\n",
    "            su=su+1\n",
    "            if(su%2==0):\n",
    "                q=0\n",
    "                data.append(q)\n",
    "                q=0.5\n",
    "                data.append(q)\n",
    "            else:\n",
    "                q=1\n",
    "                data.append(q)\n",
    "                q=0.5\n",
    "                data.append(q)\n",
    "    data=np.insert(data,len(data),0)\n",
    "    clock = 1 - np.arange(len(data)) % 2\n",
    "    t = 0.5 * np.arange(len(data))\n",
    "\n",
    "    for p in range(len(bits)+1):\n",
    "        plt.axvline(p, color='.5', linewidth=2)\n",
    "    for p in [0.5,2]:\n",
    "        plt.axhline(p, color='.5', linewidth=2)\n",
    "    plt.step(t, clock + 2, 'r', linewidth = 2, where='post')\n",
    "    plt.step(t, data, 'r', linewidth = 2, where='post')\n",
    "    plt.ylim([-1,3.5])\n",
    "\n",
    "    for tbit, bit in enumerate(bits):\n",
    "        plt.text(tbit + 0.5, -0.5, str(bit))\n",
    "    \n",
    "    plt.text((-len(bits))/6,2,'Clock')\n",
    "    plt.text((-len(bits))/3.7,0.5,'Bipolar RZ')\n",
    "\n",
    "\n",
    "    plt.gca().axis('off')\n",
    "    plt.show()\n"
   ]
  },
  {
   "cell_type": "code",
   "execution_count": 19,
   "metadata": {},
   "outputs": [
    {
     "data": {
      "image/png": "[encoded data removed]",
      "text/plain": [
       "<Figure size 432x288 with 1 Axes>"
      ]
     },
     "metadata": {
      "needs_background": "light"
     },
     "output_type": "display_data"
    }
   ],
   "source": [
    "bipolar_rz('010010')"
   ]
  },
  {
   "cell_type": "code",
   "execution_count": 20,
   "metadata": {},
   "outputs": [],
   "source": [
    "def pseudoternary(code):\n",
    "    bits=[]\n",
    "    for i in code:\n",
    "        q=int(i)\n",
    "        bits.append(q)\n",
    "    data=[]\n",
    "    su=0\n",
    "    for i in bits:\n",
    "        if i==1:\n",
    "            q=0.5\n",
    "            data.append(q)\n",
    "            data.append(q)\n",
    "        else:\n",
    "            su=su+1\n",
    "            if(su%2==0):\n",
    "                q=0\n",
    "                data.append(q)\n",
    "                data.append(q)\n",
    "            else:\n",
    "                q=1\n",
    "                data.append(q)\n",
    "                data.append(q)\n",
    "    data=np.insert(data,len(data),0)\n",
    "    clock = 1 - np.arange(len(data)) % 2\n",
    "    t = 0.5 * np.arange(len(data))\n",
    "\n",
    "    for p in range(len(bits)+1):\n",
    "        plt.axvline(p, color='.5', linewidth=2)\n",
    "    for p in [0.5,2]:\n",
    "        plt.axhline(p, color='.5', linewidth=2)\n",
    "    plt.step(t, clock + 2, 'r', linewidth = 2, where='post')\n",
    "    plt.step(t, data, 'r', linewidth = 2, where='post')\n",
    "    plt.ylim([-1,3.5])\n",
    "\n",
    "    for tbit, bit in enumerate(bits):\n",
    "        plt.text(tbit + 0.5, -0.5, str(bit))\n",
    "    \n",
    "    plt.text((-len(bits))/6,2,'Clock')\n",
    "    plt.text((-len(bits))/3.7,0.5,'Pseudoternary')\n",
    "\n",
    "\n",
    "    plt.gca().axis('off')\n",
    "    plt.show()\n"
   ]
  },
  {
   "cell_type": "code",
   "execution_count": 21,
   "metadata": {},
   "outputs": [
    {
     "data": {
      "image/png": "[encoded data removed]",
      "text/plain": [
       "<Figure size 432x288 with 1 Axes>"
      ]
     },
     "metadata": {
      "needs_background": "light"
     },
     "output_type": "display_data"
    }
   ],
   "source": [
    "pseudoternary('0100010')"
   ]
  },
  {
   "cell_type": "code",
   "execution_count": 22,
   "metadata": {},
   "outputs": [],
   "source": [
    "def manchester1(code):\n",
    "    bits=[]\n",
    "    for i in code:\n",
    "        q=int(i)\n",
    "        bits.append(q)\n",
    "    data = np.repeat(bits, 2)\n",
    "    data=np.insert(data,len(data),0)\n",
    "    clock = 1 - np.arange(len(data)) % 2\n",
    "    manchester = 1 - np.logical_xor(clock, data)\n",
    "    t = 0.5 * np.arange(len(data))\n",
    "\n",
    "    for p in range(len(bits)+1):\n",
    "        plt.axvline(p, color='.5', linewidth=2)\n",
    "    for p in [0.5,2]:\n",
    "        plt.axhline(p, color='.5', linewidth=2)\n",
    "    plt.step(t, clock + 2, 'r', linewidth = 2, where='post')\n",
    "    plt.step(t, manchester, 'r', linewidth = 2, where='post')\n",
    "    plt.ylim([-1,3.5])\n",
    "\n",
    "    for tbit, bit in enumerate(bits):\n",
    "        plt.text(tbit + 0.5, -0.5, str(bit))\n",
    "    \n",
    "    plt.text((-len(bits))/6,2,'Clock')\n",
    "    plt.text((-len(bits))/2.8,0.5,'Manchester-G.E.T')\n",
    "\n",
    "\n",
    "    plt.gca().axis('off')\n",
    "    plt.show()"
   ]
  },
  {
   "cell_type": "code",
   "execution_count": 23,
   "metadata": {},
   "outputs": [
    {
     "data": {
      "image/png": "[encoded data removed]",
      "text/plain": [
       "<Figure size 432x288 with 1 Axes>"
      ]
     },
     "metadata": {
      "needs_background": "light"
     },
     "output_type": "display_data"
    }
   ],
   "source": [
    "manchester1('10100111001')"
   ]
  },
  {
   "cell_type": "code",
   "execution_count": 40,
   "metadata": {},
   "outputs": [],
   "source": [
    "def manchester2(code):\n",
    "    bits=[]\n",
    "    for i in code:\n",
    "        q=int(i)\n",
    "        bits.append(q)\n",
    "    data = np.repeat(bits, 2)\n",
    "    data=np.insert(data,len(data),0)\n",
    "    clock = 1 - np.arange(len(data)) % 2\n",
    "    manchester = np.logical_xor(clock, data)\n",
    "    machester=np.logical_not(manchester)\n",
    "    t = 0.5 * np.arange(len(data))\n",
    "\n",
    "    for p in range(len(bits)+1):\n",
    "        plt.axvline(p, color='.5', linewidth=2)\n",
    "    for p in [0.5,2]:\n",
    "        plt.axhline(p, color='.5', linewidth=2)\n",
    "    plt.step(t, clock + 2, 'r', linewidth = 2, where='post')\n",
    "    plt.step(t, manchester, 'r', linewidth = 2, where='post')\n",
    "    plt.ylim([-1,3.5])\n",
    "\n",
    "    for tbit, bit in enumerate(bits):\n",
    "        plt.text(tbit + 0.5, -0.5, str(bit))\n",
    "    \n",
    "    plt.text((-len(bits))/6,2,'Clock')\n",
    "    plt.text((-len(bits))/2.9,0.5,'Manchester-IEEE')\n",
    "\n",
    "\n",
    "    plt.gca().axis('off')\n",
    "    plt.show()\n"
   ]
  },
  {
   "cell_type": "code",
   "execution_count": 41,
   "metadata": {},
   "outputs": [
    {
     "data": {
      "image/png": "[encoded data removed]",
      "text/plain": [
       "<Figure size 432x288 with 1 Axes>"
      ]
     },
     "metadata": {
      "needs_background": "light"
     },
     "output_type": "display_data"
    }
   ],
   "source": [
    "manchester2('10100111001')"
   ]
  },
  {
   "cell_type": "code",
   "execution_count": 38,
   "metadata": {},
   "outputs": [],
   "source": [
    "def diffmanchester(code):\n",
    "    bits=[]\n",
    "    for i in code:\n",
    "        q=int(i)\n",
    "        bits.append(q)\n",
    "    data=[]\n",
    "    for i in range(len(bits)):\n",
    "        if i==0:\n",
    "            if bits[i]==0:\n",
    "                q=0\n",
    "                data.append(q)\n",
    "                q=1\n",
    "                data.append(q)\n",
    "            else:\n",
    "                q=1\n",
    "                data.append(q)\n",
    "                q=0\n",
    "                data.append(q)\n",
    "        else:\n",
    "            if bits[i]==1:\n",
    "                q=data[-1]\n",
    "                data.append(q)\n",
    "                q=1-data[-1]\n",
    "                data.append(q)\n",
    "            else:\n",
    "                q=1-data[-1]\n",
    "                data.append(q)\n",
    "                q=1-data[-1]\n",
    "                data.append(q)\n",
    "                \n",
    "    data=np.insert(data,len(data),0)\n",
    "    clock = 1 - np.arange(len(data)) % 2\n",
    "    t = 0.5 * np.arange(len(data))\n",
    "\n",
    "    for p in range(len(bits)+1):\n",
    "        plt.axvline(p, color='.5', linewidth=2)\n",
    "    for p in [0.5,2]:\n",
    "        plt.axhline(p, color='.5', linewidth=2)\n",
    "    plt.step(t, clock + 2, 'r', linewidth = 2, where='post')\n",
    "    plt.step(t, data, 'r', linewidth = 2, where='post')\n",
    "    plt.ylim([-1,3.5])\n",
    "\n",
    "    for tbit, bit in enumerate(bits):\n",
    "        plt.text(tbit + 0.5, -0.5, str(bit))\n",
    "    \n",
    "    plt.text((-len(bits))/6,2,'Clock')\n",
    "    plt.text((-len(bits))/2.2,0.5,'Differential Manchester')\n",
    "\n",
    "\n",
    "    plt.gca().axis('off')\n",
    "    plt.show()\n"
   ]
  },
  {
   "cell_type": "code",
   "execution_count": 39,
   "metadata": {},
   "outputs": [
    {
     "data": {
      "image/png": "[encoded data removed]",
      "text/plain": [
       "<Figure size 432x288 with 1 Axes>"
      ]
     },
     "metadata": {
      "needs_background": "light"
     },
     "output_type": "display_data"
    }
   ],
   "source": [
    "diffmanchester('010011')"
   ]
  },
  {
   "cell_type": "code",
   "execution_count": null,
   "metadata": {},
   "outputs": [],
   "source": []
  }
 ],
 "metadata": {
  "interpreter": {
   "hash": "f359d18c783283685a6aa45aceb8a0b30a2ea59f8f0c0061e7b140a68707c599"
  },
  "kernelspec": {
   "display_name": "Python 3.9.6 64-bit",
   "language": "python",
   "name": "python3"
  },
  "language_info": {
   "codemirror_mode": {
    "name": "ipython",
    "version": 3
   },
   "file_extension": ".py",
   "mimetype": "text/x-python",
   "name": "python",
   "nbconvert_exporter": "python",
   "pygments_lexer": "ipython3",
   "version": "3.9.6"
  },
  "orig_nbformat": 4
 },
 "nbformat": 4,
 "nbformat_minor": 2
}
