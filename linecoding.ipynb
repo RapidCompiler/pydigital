{
 "cells": [
  {
   "cell_type": "code",
   "execution_count": 62,
   "metadata": {},
   "outputs": [
    {
     "data": {
      "image/png": "[encoded data removed]",
      "text/plain": [
       "<Figure size 432x288 with 1 Axes>"
      ]
     },
     "metadata": {
      "needs_background": "light"
     },
     "output_type": "display_data"
    }
   ],
   "source": [
    "import matplotlib.pyplot as plt\n",
    "import numpy as np\n",
    "\n",
    "bits = [0,1,0,1,0,0,1,1,1,0,0,1,0]\n",
    "data = np.repeat(bits, 2)\n",
    "clock = 1 - np.arange(len(data)) % 2\n",
    "manchester = 1 - np.logical_xor(clock, data)\n",
    "t = 0.5 * np.arange(len(data))\n",
    "\n",
    "for p in range(len(bits)+1):\n",
    "    plt.axvline(p, color='.5', linewidth=2)\n",
    "for p in [0.5,2,4]:\n",
    "    plt.axhline(p, color='.5', linewidth=2)\n",
    "plt.step(t, clock + 4, 'r', linewidth = 2, where='post')\n",
    "plt.step(t, data + 2, 'r', linewidth = 2, where='post')\n",
    "plt.step(t, manchester, 'r', linewidth = 2, where='post')\n",
    "plt.ylim([-1,6])\n",
    "\n",
    "for tbit, bit in enumerate(bits):\n",
    "    plt.text(tbit + 0.5, 1.5, str(bit))\n",
    "\n",
    "plt.text(-2,4,'Clock')\n",
    "plt.text(-2,2,'Data')\n",
    "plt.text(-3.2,0.5,'Manchester')\n",
    "\n",
    "\n",
    "plt.gca().axis('on')\n",
    "plt.show()"
   ]
  },
  {
   "cell_type": "code",
   "execution_count": 111,
   "metadata": {},
   "outputs": [],
   "source": [
    "def manchester(code):\n",
    "    bits=[]\n",
    "    for i in code:\n",
    "        q=int(i)\n",
    "        bits.append(q)\n",
    "    data = np.repeat(bits, 2)\n",
    "    data=np.insert(data,len(data),0)\n",
    "    clock = 1 - np.arange(len(data)) % 2\n",
    "    manchester = 1 - np.logical_xor(clock, data)\n",
    "    t = 0.5 * np.arange(len(data))\n",
    "\n",
    "    for p in range(len(bits)+1):\n",
    "        plt.axvline(p, color='.5', linewidth=2)\n",
    "    for p in [0.5,2]:\n",
    "        plt.axhline(p, color='.5', linewidth=2)\n",
    "    plt.step(t, clock + 2, 'r', linewidth = 2, where='post')\n",
    "    plt.step(t, manchester, 'r', linewidth = 2, where='post')\n",
    "    plt.ylim([-1,3.5])\n",
    "\n",
    "    for tbit, bit in enumerate(bits):\n",
    "        plt.text(tbit + 0.5, -0.5, str(bit))\n",
    "    \n",
    "    plt.text((-len(bits))/6,2,'Clock')\n",
    "    plt.text((-len(bits))/3.7,0.5,'Manchester')\n",
    "\n",
    "\n",
    "    plt.gca().axis('off')\n",
    "    plt.show()\n"
   ]
  },
  {
   "cell_type": "code",
   "execution_count": 119,
   "metadata": {},
   "outputs": [],
   "source": [
    "def unipolar_nrz(code):\n",
    "    bits=[]\n",
    "    for i in code:\n",
    "        q=int(i)\n",
    "        bits.append(q)\n",
    "    data = np.repeat(bits, 2)\n",
    "    data=np.insert(data,len(data),0)\n",
    "    clock = 1 - np.arange(len(data)) % 2\n",
    "    t = 0.5 * np.arange(len(data))\n",
    "\n",
    "    for p in range(len(bits)+1):\n",
    "        plt.axvline(p, color='.5', linewidth=2)\n",
    "    for p in [0,2]:\n",
    "        plt.axhline(p, color='.5', linewidth=2)\n",
    "    plt.step(t, clock + 2, 'r', linewidth = 2, where='post')\n",
    "    plt.step(t, data, 'r', linewidth = 2, where='post')\n",
    "    plt.ylim([-1,3.5])\n",
    "\n",
    "    for tbit, bit in enumerate(bits):\n",
    "        plt.text(tbit + 0.5, -0.5, str(bit))\n",
    "    \n",
    "    plt.text((-len(bits))/6,2,'Clock')\n",
    "    plt.text((-len(bits))/3.7,0,'Unipolar NRZ')\n",
    "\n",
    "\n",
    "    plt.gca().axis('off')\n",
    "    plt.show()\n"
   ]
  },
  {
   "cell_type": "code",
   "execution_count": 123,
   "metadata": {},
   "outputs": [],
   "source": [
    "def polar_nrz(code):\n",
    "    bits=[]\n",
    "    for i in code:\n",
    "        q=int(i)\n",
    "        bits.append(q)\n",
    "    data = np.repeat(bits, 2)\n",
    "    data=np.insert(data,len(data),0)\n",
    "    clock = 1 - np.arange(len(data)) % 2\n",
    "    t = 0.5 * np.arange(len(data))\n",
    "\n",
    "    for p in range(len(bits)+1):\n",
    "        plt.axvline(p, color='.5', linewidth=2)\n",
    "    for p in [0.5,2]:\n",
    "        plt.axhline(p, color='.5', linewidth=2)\n",
    "    plt.step(t, clock + 2, 'r', linewidth = 2, where='post')\n",
    "    plt.step(t, data, 'r', linewidth = 2, where='post')\n",
    "    plt.ylim([-1,3.5])\n",
    "\n",
    "    for tbit, bit in enumerate(bits):\n",
    "        plt.text(tbit + 0.5, -0.5, str(bit))\n",
    "    \n",
    "    plt.text((-len(bits))/6,2,'Clock')\n",
    "    plt.text((-len(bits))/3.7,0.5,'Polar NRZ')\n",
    "\n",
    "\n",
    "    plt.gca().axis('off')\n",
    "    plt.show()\n"
   ]
  },
  {
   "cell_type": "code",
   "execution_count": 124,
   "metadata": {},
   "outputs": [
    {
     "data": {
      "image/png": "[encoded data removed]",
      "text/plain": [
       "<Figure size 432x288 with 1 Axes>"
      ]
     },
     "metadata": {
      "needs_background": "light"
     },
     "output_type": "display_data"
    }
   ],
   "source": [
    "polar_nrz('101010')"
   ]
  },
  {
   "cell_type": "code",
   "execution_count": 136,
   "metadata": {},
   "outputs": [],
   "source": [
    "def polar_nrzl(code):\n",
    "    bits=[]\n",
    "    for i in code:\n",
    "        q=int(i)\n",
    "        bits.append(q)\n",
    "    dat1=[]\n",
    "    for i in bits:\n",
    "        if i==1:\n",
    "            l=0\n",
    "            dat1.append(l)\n",
    "        else:\n",
    "            l=1\n",
    "            dat1.append(l)\n",
    "    data = np.repeat(dat1, 2)\n",
    "    data=np.insert(data,len(data),0)\n",
    "    clock = 1 - np.arange(len(data)) % 2\n",
    "    t = 0.5 * np.arange(len(data))\n",
    "\n",
    "    for p in range(len(bits)+1):\n",
    "        plt.axvline(p, color='.5', linewidth=2)\n",
    "    for p in [0.5,2]:\n",
    "        plt.axhline(p, color='.5', linewidth=2)\n",
    "    plt.step(t, clock + 2, 'r', linewidth = 2, where='post')\n",
    "    plt.step(t, data, 'r', linewidth = 2, where='post')\n",
    "    plt.ylim([-1,3.5])\n",
    "\n",
    "    for tbit, bit in enumerate(bits):\n",
    "        plt.text(tbit + 0.5, -0.5, str(bit))\n",
    "    \n",
    "    plt.text((-len(bits))/6,2,'Clock')\n",
    "    plt.text((-len(bits))/3.7,0.5,'Polar NRZ-L')\n",
    "\n",
    "\n",
    "    plt.gca().axis('off')\n",
    "    plt.show()\n",
    "    return dat1\n"
   ]
  },
  {
   "cell_type": "code",
   "execution_count": 137,
   "metadata": {},
   "outputs": [
    {
     "data": {
      "image/png": "[encoded data removed]",
      "text/plain": [
       "<Figure size 432x288 with 1 Axes>"
      ]
     },
     "metadata": {
      "needs_background": "light"
     },
     "output_type": "display_data"
    },
    {
     "name": "stdout",
     "output_type": "stream",
     "text": [
      "[0, 1, 0, 1, 0, 1]\n"
     ]
    }
   ],
   "source": [
    "polar_nrzl('101010')"
   ]
  },
  {
   "cell_type": "code",
   "execution_count": 140,
   "metadata": {},
   "outputs": [],
   "source": [
    "def polar_nrzi(code):\n",
    "    bits=[]\n",
    "    for i in code:\n",
    "        q=int(i)\n",
    "        bits.append(q)\n",
    "    data=[]\n",
    "    for i in range(0,len(bits)):\n",
    "        if i==0:\n",
    "            if bits[i]==1:\n",
    "                l=0\n",
    "                data.append(l)\n",
    "            else:\n",
    "                l=1\n",
    "                data.append(l)\n",
    "        elif bits[i]==0:\n",
    "            l=data[i-1]\n",
    "            data.append(l)\n",
    "        elif bits[i]==1:\n",
    "            if data[i-1]==1:\n",
    "                l=0\n",
    "                data.append(l)\n",
    "            else:\n",
    "                l=1\n",
    "                data.append(l)\n",
    "    data = np.repeat(data, 2)\n",
    "    data=np.insert(data,len(data),0)\n",
    "    clock = 1 - np.arange(len(data)) % 2\n",
    "    t = 0.5 * np.arange(len(data))\n",
    "\n",
    "    for p in range(len(bits)+1):\n",
    "        plt.axvline(p, color='.5', linewidth=2)\n",
    "    for p in [0.5,2]:\n",
    "        plt.axhline(p, color='.5', linewidth=2)\n",
    "    plt.step(t, clock + 2, 'r', linewidth = 2, where='post')\n",
    "    plt.step(t, data, 'r', linewidth = 2, where='post')\n",
    "    plt.ylim([-1,3.5])\n",
    "\n",
    "    for tbit, bit in enumerate(bits):\n",
    "        plt.text(tbit + 0.5, -0.5, str(bit))\n",
    "    \n",
    "    plt.text((-len(bits))/6,2,'Clock')\n",
    "    plt.text((-len(bits))/3.7,0.5,'Polar NRZ-L')\n",
    "\n",
    "\n",
    "    plt.gca().axis('off')\n",
    "    plt.show()\n"
   ]
  },
  {
   "cell_type": "code",
   "execution_count": 141,
   "metadata": {},
   "outputs": [
    {
     "data": {
      "image/png": "[encoded data removed]",
      "text/plain": [
       "<Figure size 432x288 with 1 Axes>"
      ]
     },
     "metadata": {
      "needs_background": "light"
     },
     "output_type": "display_data"
    }
   ],
   "source": [
    "polar_nrzi('01001110')"
   ]
  }
 ],
 "metadata": {
  "interpreter": {
   "hash": "f359d18c783283685a6aa45aceb8a0b30a2ea59f8f0c0061e7b140a68707c599"
  },
  "kernelspec": {
   "display_name": "Python 3.9.6 64-bit",
   "language": "python",
   "name": "python3"
  },
  "language_info": {
   "codemirror_mode": {
    "name": "ipython",
    "version": 3
   },
   "file_extension": ".py",
   "mimetype": "text/x-python",
   "name": "python",
   "nbconvert_exporter": "python",
   "pygments_lexer": "ipython3",
   "version": "3.9.6"
  },
  "orig_nbformat": 4
 },
 "nbformat": 4,
 "nbformat_minor": 2
}
